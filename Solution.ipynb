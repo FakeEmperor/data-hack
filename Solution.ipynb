{
 "cells": [
  {
   "cell_type": "code",
   "execution_count": 34,
   "metadata": {},
   "outputs": [],
   "source": [
    "from typing import Sequence, Tuple, Union\n",
    "import numpy as np\n",
    "import matplotlib.pyplot as plt\n",
    "import pandas as pd\n",
    "\n",
    "from dataclasses import dataclass\n",
    "from sklearn.linear_model import LinearRegression\n",
    "from sklearn.model_selection import train_test_split\n",
    "\n",
    "\n",
    "from IPython.display import display\n",
    "\n",
    "import logging"
   ]
  },
  {
   "cell_type": "code",
   "execution_count": 35,
   "metadata": {},
   "outputs": [],
   "source": [
    "logging.basicConfig(format='[%(asctime)s] [%(levelname)s]: %(message)s', level=logging.DEBUG, datefmt='%I:%M:%S')\n",
    "_logger = logging.getLogger(\"data_hack.preliminary\")"
   ]
  },
  {
   "cell_type": "code",
   "execution_count": 36,
   "metadata": {},
   "outputs": [
    {
     "name": "stdout",
     "output_type": "stream",
     "text": [
      "Forces\n"
     ]
    },
    {
     "data": {
      "text/html": [
       "<div>\n",
       "<style scoped>\n",
       "    .dataframe tbody tr th:only-of-type {\n",
       "        vertical-align: middle;\n",
       "    }\n",
       "\n",
       "    .dataframe tbody tr th {\n",
       "        vertical-align: top;\n",
       "    }\n",
       "\n",
       "    .dataframe thead th {\n",
       "        text-align: right;\n",
       "    }\n",
       "</style>\n",
       "<table border=\"1\" class=\"dataframe\">\n",
       "  <thead>\n",
       "    <tr style=\"text-align: right;\">\n",
       "      <th></th>\n",
       "      <th>V</th>\n",
       "      <th>Fa</th>\n",
       "    </tr>\n",
       "  </thead>\n",
       "  <tbody>\n",
       "    <tr>\n",
       "      <th>0</th>\n",
       "      <td>0</td>\n",
       "      <td>0.000</td>\n",
       "    </tr>\n",
       "    <tr>\n",
       "      <th>1</th>\n",
       "      <td>10</td>\n",
       "      <td>14.019</td>\n",
       "    </tr>\n",
       "    <tr>\n",
       "      <th>2</th>\n",
       "      <td>20</td>\n",
       "      <td>80.836</td>\n",
       "    </tr>\n",
       "    <tr>\n",
       "      <th>3</th>\n",
       "      <td>30</td>\n",
       "      <td>240.060</td>\n",
       "    </tr>\n",
       "    <tr>\n",
       "      <th>4</th>\n",
       "      <td>40</td>\n",
       "      <td>449.910</td>\n",
       "    </tr>\n",
       "    <tr>\n",
       "      <th>5</th>\n",
       "      <td>50</td>\n",
       "      <td>686.020</td>\n",
       "    </tr>\n",
       "    <tr>\n",
       "      <th>6</th>\n",
       "      <td>60</td>\n",
       "      <td>983.300</td>\n",
       "    </tr>\n",
       "    <tr>\n",
       "      <th>7</th>\n",
       "      <td>70</td>\n",
       "      <td>1361.600</td>\n",
       "    </tr>\n",
       "    <tr>\n",
       "      <th>8</th>\n",
       "      <td>80</td>\n",
       "      <td>1804.900</td>\n",
       "    </tr>\n",
       "    <tr>\n",
       "      <th>9</th>\n",
       "      <td>90</td>\n",
       "      <td>2289.100</td>\n",
       "    </tr>\n",
       "    <tr>\n",
       "      <th>10</th>\n",
       "      <td>100</td>\n",
       "      <td>2807.500</td>\n",
       "    </tr>\n",
       "    <tr>\n",
       "      <th>11</th>\n",
       "      <td>110</td>\n",
       "      <td>3361.500</td>\n",
       "    </tr>\n",
       "    <tr>\n",
       "      <th>12</th>\n",
       "      <td>120</td>\n",
       "      <td>3961.700</td>\n",
       "    </tr>\n",
       "    <tr>\n",
       "      <th>13</th>\n",
       "      <td>130</td>\n",
       "      <td>4633.800</td>\n",
       "    </tr>\n",
       "    <tr>\n",
       "      <th>14</th>\n",
       "      <td>140</td>\n",
       "      <td>5373.000</td>\n",
       "    </tr>\n",
       "    <tr>\n",
       "      <th>15</th>\n",
       "      <td>150</td>\n",
       "      <td>6166.700</td>\n",
       "    </tr>\n",
       "    <tr>\n",
       "      <th>16</th>\n",
       "      <td>160</td>\n",
       "      <td>7014.900</td>\n",
       "    </tr>\n",
       "    <tr>\n",
       "      <th>17</th>\n",
       "      <td>170</td>\n",
       "      <td>7917.500</td>\n",
       "    </tr>\n",
       "    <tr>\n",
       "      <th>18</th>\n",
       "      <td>180</td>\n",
       "      <td>8874.500</td>\n",
       "    </tr>\n",
       "    <tr>\n",
       "      <th>19</th>\n",
       "      <td>190</td>\n",
       "      <td>9886.000</td>\n",
       "    </tr>\n",
       "    <tr>\n",
       "      <th>20</th>\n",
       "      <td>200</td>\n",
       "      <td>10952.000</td>\n",
       "    </tr>\n",
       "    <tr>\n",
       "      <th>21</th>\n",
       "      <td>210</td>\n",
       "      <td>12072.000</td>\n",
       "    </tr>\n",
       "    <tr>\n",
       "      <th>22</th>\n",
       "      <td>220</td>\n",
       "      <td>13246.000</td>\n",
       "    </tr>\n",
       "    <tr>\n",
       "      <th>23</th>\n",
       "      <td>230</td>\n",
       "      <td>14475.000</td>\n",
       "    </tr>\n",
       "    <tr>\n",
       "      <th>24</th>\n",
       "      <td>240</td>\n",
       "      <td>15757.000</td>\n",
       "    </tr>\n",
       "    <tr>\n",
       "      <th>25</th>\n",
       "      <td>250</td>\n",
       "      <td>17094.000</td>\n",
       "    </tr>\n",
       "    <tr>\n",
       "      <th>26</th>\n",
       "      <td>260</td>\n",
       "      <td>18486.000</td>\n",
       "    </tr>\n",
       "    <tr>\n",
       "      <th>27</th>\n",
       "      <td>270</td>\n",
       "      <td>19931.000</td>\n",
       "    </tr>\n",
       "  </tbody>\n",
       "</table>\n",
       "</div>"
      ],
      "text/plain": [
       "      V         Fa\n",
       "0     0      0.000\n",
       "1    10     14.019\n",
       "2    20     80.836\n",
       "3    30    240.060\n",
       "4    40    449.910\n",
       "5    50    686.020\n",
       "6    60    983.300\n",
       "7    70   1361.600\n",
       "8    80   1804.900\n",
       "9    90   2289.100\n",
       "10  100   2807.500\n",
       "11  110   3361.500\n",
       "12  120   3961.700\n",
       "13  130   4633.800\n",
       "14  140   5373.000\n",
       "15  150   6166.700\n",
       "16  160   7014.900\n",
       "17  170   7917.500\n",
       "18  180   8874.500\n",
       "19  190   9886.000\n",
       "20  200  10952.000\n",
       "21  210  12072.000\n",
       "22  220  13246.000\n",
       "23  230  14475.000\n",
       "24  240  15757.000\n",
       "25  250  17094.000\n",
       "26  260  18486.000\n",
       "27  270  19931.000"
      ]
     },
     "metadata": {},
     "output_type": "display_data"
    },
    {
     "name": "stdout",
     "output_type": "stream",
     "text": [
      "Winds\n"
     ]
    },
    {
     "data": {
      "text/html": [
       "<div>\n",
       "<style scoped>\n",
       "    .dataframe tbody tr th:only-of-type {\n",
       "        vertical-align: middle;\n",
       "    }\n",
       "\n",
       "    .dataframe tbody tr th {\n",
       "        vertical-align: top;\n",
       "    }\n",
       "\n",
       "    .dataframe thead th {\n",
       "        text-align: right;\n",
       "    }\n",
       "</style>\n",
       "<table border=\"1\" class=\"dataframe\">\n",
       "  <thead>\n",
       "    <tr style=\"text-align: right;\">\n",
       "      <th></th>\n",
       "      <th>Y</th>\n",
       "      <th>Wx</th>\n",
       "      <th>Wz</th>\n",
       "    </tr>\n",
       "  </thead>\n",
       "  <tbody>\n",
       "    <tr>\n",
       "      <th>0</th>\n",
       "      <td>0</td>\n",
       "      <td>3.38</td>\n",
       "      <td>-1.81</td>\n",
       "    </tr>\n",
       "    <tr>\n",
       "      <th>1</th>\n",
       "      <td>100</td>\n",
       "      <td>3.52</td>\n",
       "      <td>-2.88</td>\n",
       "    </tr>\n",
       "    <tr>\n",
       "      <th>2</th>\n",
       "      <td>200</td>\n",
       "      <td>3.84</td>\n",
       "      <td>-2.60</td>\n",
       "    </tr>\n",
       "    <tr>\n",
       "      <th>3</th>\n",
       "      <td>300</td>\n",
       "      <td>4.39</td>\n",
       "      <td>-1.18</td>\n",
       "    </tr>\n",
       "    <tr>\n",
       "      <th>4</th>\n",
       "      <td>400</td>\n",
       "      <td>4.75</td>\n",
       "      <td>-1.42</td>\n",
       "    </tr>\n",
       "    <tr>\n",
       "      <th>5</th>\n",
       "      <td>500</td>\n",
       "      <td>4.53</td>\n",
       "      <td>-1.94</td>\n",
       "    </tr>\n",
       "    <tr>\n",
       "      <th>6</th>\n",
       "      <td>600</td>\n",
       "      <td>3.58</td>\n",
       "      <td>-1.73</td>\n",
       "    </tr>\n",
       "    <tr>\n",
       "      <th>7</th>\n",
       "      <td>700</td>\n",
       "      <td>3.37</td>\n",
       "      <td>-2.25</td>\n",
       "    </tr>\n",
       "    <tr>\n",
       "      <th>8</th>\n",
       "      <td>800</td>\n",
       "      <td>4.37</td>\n",
       "      <td>-2.16</td>\n",
       "    </tr>\n",
       "    <tr>\n",
       "      <th>9</th>\n",
       "      <td>900</td>\n",
       "      <td>2.99</td>\n",
       "      <td>-2.42</td>\n",
       "    </tr>\n",
       "    <tr>\n",
       "      <th>10</th>\n",
       "      <td>1000</td>\n",
       "      <td>4.20</td>\n",
       "      <td>-1.97</td>\n",
       "    </tr>\n",
       "    <tr>\n",
       "      <th>11</th>\n",
       "      <td>1100</td>\n",
       "      <td>5.19</td>\n",
       "      <td>-2.40</td>\n",
       "    </tr>\n",
       "    <tr>\n",
       "      <th>12</th>\n",
       "      <td>1200</td>\n",
       "      <td>2.88</td>\n",
       "      <td>-1.55</td>\n",
       "    </tr>\n",
       "    <tr>\n",
       "      <th>13</th>\n",
       "      <td>1300</td>\n",
       "      <td>4.59</td>\n",
       "      <td>-1.40</td>\n",
       "    </tr>\n",
       "    <tr>\n",
       "      <th>14</th>\n",
       "      <td>1400</td>\n",
       "      <td>3.61</td>\n",
       "      <td>-3.13</td>\n",
       "    </tr>\n",
       "  </tbody>\n",
       "</table>\n",
       "</div>"
      ],
      "text/plain": [
       "       Y    Wx    Wz\n",
       "0      0  3.38 -1.81\n",
       "1    100  3.52 -2.88\n",
       "2    200  3.84 -2.60\n",
       "3    300  4.39 -1.18\n",
       "4    400  4.75 -1.42\n",
       "5    500  4.53 -1.94\n",
       "6    600  3.58 -1.73\n",
       "7    700  3.37 -2.25\n",
       "8    800  4.37 -2.16\n",
       "9    900  2.99 -2.42\n",
       "10  1000  4.20 -1.97\n",
       "11  1100  5.19 -2.40\n",
       "12  1200  2.88 -1.55\n",
       "13  1300  4.59 -1.40\n",
       "14  1400  3.61 -3.13"
      ]
     },
     "metadata": {},
     "output_type": "display_data"
    },
    {
     "data": {
      "text/plain": [
       "Index(['V', 'Fa'], dtype='object')"
      ]
     },
     "execution_count": 36,
     "metadata": {},
     "output_type": "execute_result"
    }
   ],
   "source": [
    "# Load Data regarding winds and aerodynamic forces.\n",
    "F_table = pd.read_csv(\"data/F.csv\")\n",
    "Wind_table = pd.read_csv(\"data/Wind.csv\")\n",
    "print(\"Forces\")\n",
    "display(F_table)\n",
    "print(\"Winds\")\n",
    "display(Wind_table)\n",
    "F_table.columns"
   ]
  },
  {
   "cell_type": "code",
   "execution_count": 37,
   "metadata": {},
   "outputs": [
    {
     "name": "stdout",
     "output_type": "stream",
     "text": [
      "-1.6686560615899957\n",
      "-1.148246299614029\n"
     ]
    }
   ],
   "source": [
    "# Try to predict winds\n",
    "from sklearn.gaussian_process import GaussianProcessRegressor\n",
    "from sklearn.ensemble import GradientBoostingRegressor\n",
    "train, test = train_test_split(Wind_table, test_size=0.8)\n",
    "gp = GaussianProcessRegressor(normalize_y=True, n_restarts_optimizer=10)\n",
    "gb = GradientBoostingRegressor(n_estimators=100, max_depth=2)\n",
    "\n",
    "gp.fit(train[\"Y\"].values.reshape(-1,1), train[\"Wx\"])\n",
    "print(gp.score(test[\"Y\"].values.reshape(-1,1), test[\"Wx\"]))\n",
    "wx_predict = gp.predict(Wind_table[\"Y\"].values.reshape(-1,1))\n",
    "gp.fit(train[\"Y\"].values.reshape(-1,1), train[\"Wz\"])\n",
    "print(gp.score(test[\"Y\"].values.reshape(-1,1), test[\"Wz\"]))\n",
    "wz_predict = gp.predict(Wind_table[\"Y\"].values.reshape(-1,1))"
   ]
  },
  {
   "cell_type": "code",
   "execution_count": 38,
   "metadata": {},
   "outputs": [
    {
     "name": "stderr",
     "output_type": "stream",
     "text": [
      "e:\\source\\repos\\best.hack\\preliminary\\.venv\\lib\\site-packages\\matplotlib\\figure.py:445: UserWarning: Matplotlib is currently using module://ipykernel.pylab.backend_inline, which is a non-GUI backend, so cannot show the figure.\n",
      "  % get_backend())\n",
      "[01:11:57] [DEBUG]: update_title_pos\n",
      "[01:11:57] [DEBUG]: update_title_pos\n",
      "[01:11:57] [DEBUG]: update_title_pos\n",
      "[01:11:57] [DEBUG]: update_title_pos\n",
      "[01:11:57] [DEBUG]: update_title_pos\n",
      "[01:11:57] [DEBUG]: update_title_pos\n",
      "[01:11:57] [DEBUG]: update_title_pos\n",
      "[01:11:57] [DEBUG]: update_title_pos\n",
      "[01:11:57] [DEBUG]: update_title_pos\n",
      "[01:11:57] [DEBUG]: update_title_pos\n"
     ]
    },
    {
     "data": {
      "image/png": "[encoded data removed]",
      "text/plain": [
       "<Figure size 432x288 with 2 Axes>"
      ]
     },
     "metadata": {
      "needs_background": "light"
     },
     "output_type": "display_data"
    }
   ],
   "source": [
    "fig, (wx, wz) = plt.subplots(1, 2, sharex=True)\n",
    "wx.set_title(\"Wx\")\n",
    "wx.plot(Wind_table[\"Y\"], Wind_table[\"Wx\"])\n",
    "wx.plot(Wind_table[\"Y\"], wx_predict)\n",
    "wz.set_title(\"Wz\")\n",
    "wz.plot(Wind_table[\"Y\"], Wind_table[\"Wz\"])\n",
    "wz.plot(Wind_table[\"Y\"], wz_predict)\n",
    "fig.show()"
   ]
  },
  {
   "cell_type": "code",
   "execution_count": 39,
   "metadata": {},
   "outputs": [
    {
     "data": {
      "text/plain": [
       "[<matplotlib.lines.Line2D at 0x233decf94a8>]"
      ]
     },
     "execution_count": 39,
     "metadata": {},
     "output_type": "execute_result"
    },
    {
     "name": "stderr",
     "output_type": "stream",
     "text": [
      "[01:11:57] [DEBUG]: update_title_pos\n",
      "[01:11:57] [DEBUG]: update_title_pos\n",
      "[01:11:57] [DEBUG]: update_title_pos\n",
      "[01:11:57] [DEBUG]: update_title_pos\n",
      "[01:11:57] [DEBUG]: update_title_pos\n"
     ]
    },
    {
     "data": {
      "image/png": "[encoded data removed]",
      "text/plain": [
       "<Figure size 432x288 with 1 Axes>"
      ]
     },
     "metadata": {
      "needs_background": "light"
     },
     "output_type": "display_data"
    }
   ],
   "source": [
    "plt.plot(Wind_table['Y'], np.sqrt(Wind_table['Wx']**2+Wind_table['Wz']**2))"
   ]
  },
  {
   "cell_type": "code",
   "execution_count": 40,
   "metadata": {},
   "outputs": [
    {
     "name": "stdout",
     "output_type": "stream",
     "text": [
      "Model R^2 is: 0.9999701940775029\n"
     ]
    },
    {
     "data": {
      "text/plain": [
       "[<matplotlib.lines.Line2D at 0x233ddbfa1d0>,\n",
       " <matplotlib.lines.Line2D at 0x233ddbfa2e8>]"
      ]
     },
     "execution_count": 40,
     "metadata": {},
     "output_type": "execute_result"
    },
    {
     "name": "stderr",
     "output_type": "stream",
     "text": [
      "[01:11:58] [DEBUG]: update_title_pos\n",
      "[01:11:58] [DEBUG]: update_title_pos\n",
      "[01:11:58] [DEBUG]: update_title_pos\n",
      "[01:11:58] [DEBUG]: update_title_pos\n",
      "[01:11:58] [DEBUG]: update_title_pos\n"
     ]
    },
    {
     "data": {
      "image/png": "[encoded data removed]",
      "text/plain": [
       "<Figure size 432x288 with 1 Axes>"
      ]
     },
     "metadata": {
      "needs_background": "light"
     },
     "output_type": "display_data"
    }
   ],
   "source": [
    "\n",
    "# TRAIN LINEAR REGRESSION TO FIND AERODYNAMIC COEFFICIENT\n",
    "F_table[\"V^2\"] = F_table['V']**2 \n",
    "train, test = train_test_split(F_table, test_size=0.1)\n",
    "lr = LinearRegression(normalize=False)\n",
    "lr.fit(train[\"V^2\"].values.reshape(-1, 1), train[\"Fa\"])\n",
    "score = lr.score(test[\"V^2\"].values.reshape(-1, 1), test[\"Fa\"])\n",
    "print(f\"Model R^2 is: {score}\")\n",
    "plt.plot(F_table[\"V\"], Fa_p, F_table[\"V\"], F_table[\"Fa\"])"
   ]
  },
  {
   "cell_type": "code",
   "execution_count": 41,
   "metadata": {},
   "outputs": [],
   "source": [
    "Fa_p = lr.predict(X=F_table[\"V^2\"].values.reshape(-1, 1))\n"
   ]
  },
  {
   "cell_type": "code",
   "execution_count": 90,
   "metadata": {},
   "outputs": [],
   "source": [
    "V0 = 250\n",
    "alpha = 0\n",
    "alpha = np.deg2rad(alpha)\n",
    "V = np.array([V0*np.cos(alpha), 0, V0*np.sin(alpha)])\n",
    "Pos = np.array([150, 1500, 150])\n",
    "m = 1\n",
    "delta_t = 0.01\n",
    "g = 9.81\n",
    "C = lr.coef_[0]\n",
    "\n",
    "\n",
    "@dataclass\n",
    "class WindPredictor:\n",
    "    winds: pd.DataFrame\n",
    "    _step: int = None\n",
    "    \n",
    "    def __post_init__(self):\n",
    "        if not self.winds.shape[0]:\n",
    "            raise ValueError(\"Wind predictor takes a DataFrame for wind speeds which has at least one point\")\n",
    "        _logger.info(\"Trying to detect which type of wind model is needed (calculate deltas in a dataset)...\")\n",
    "        if self.winds.shape[0] == 1:\n",
    "            _logger.info(\"Wind dataset has only one row, we don't need any dynamic step calculation\")\n",
    "            self.predict_dynamic = False\n",
    "            self._step = 1\n",
    "        else:\n",
    "            wind_step_deltas: np.ndarray = np.array(self.winds['Y'])[:-1] - np.array(self.winds['Y'])[1:]\n",
    "            _logger.info(wind_step_deltas)\n",
    "            self.predict_dynamic = not np.all(wind_step_deltas == wind_step_deltas[0])\n",
    "            _logger.info(f\"Wind dataset will be predicted using dynamic step variation: {self.predict_dynamic}\")\n",
    "            if not self.predict_dynamic:\n",
    "                self._step = wind_step_deltas[0].ravel()\n",
    "    \n",
    "    def predict(self, h: float):\n",
    "        if self.predict_dynamic:\n",
    "            return self._predict_dynamic_step(h)\n",
    "        else:\n",
    "            return self._predict_static_step(h)\n",
    "    \n",
    "    def _predict_static_step(self, h: float):\n",
    "        wind = self.winds.iloc[min(int(h // self._step), self.winds.shape[0] - 1)]\n",
    "        return np.array([wind['Wx'], 0, wind['Wz']])\n",
    "    \n",
    "    def _predict_dynamic_step(self, h: float):\n",
    "        deltas = self.winds['Y'] - h\n",
    "        wind = self.winds.iloc[deltas[deltas < 0].idxmax()]\n",
    "        return np.array([wind['Wx'], 0, wind['Wz']])\n",
    "\n",
    "\n",
    "@dataclass\n",
    "class WindyModel:\n",
    "    v0: float\n",
    "    pos0: np.array\n",
    "    alpha: float\n",
    "    mass: float\n",
    "    aerodynamic_coef: float\n",
    "    winds: WindPredictor\n",
    "    g: float = 9.81\n",
    "    verbose: Union[bool, int] = False\n",
    "    \n",
    "    v: np.ndarray = None\n",
    "    run_time: float = None\n",
    "    pos: np.ndarray = None\n",
    "    \n",
    "    @dataclass\n",
    "    class ModelState:\n",
    "        v: np.array\n",
    "        pos: np.array\n",
    "        time: float\n",
    "        \n",
    "    def __post_init__(self):\n",
    "        self._log = logging.getLogger(f'{__name__}.{self.__class__.__name__}[{id(self)}]')\n",
    "        if isinstance(self.verbose, bool):\n",
    "            self.verbose = logging.DEBUG if self.verbose else logging.CRITICAL\n",
    "        self._log.setLevel(self.verbose)\n",
    "        self.alpha = np.deg2rad(self.alpha)\n",
    "        self.v0 = np.array([self.v0*np.cos(self.alpha), 0, self.v0*np.sin(self.alpha)])\n",
    "        self.reset()\n",
    "    \n",
    "    def reset(self):\n",
    "        self.v = self.v0\n",
    "        self.pos = self.pos0\n",
    "        self.run_time = 0\n",
    "    \n",
    "    # function that returns dy/dt\n",
    "    def wind_model(self, v: np.ndarray, time: np.ndarray):\n",
    "        v_mod = np.linalg.norm(v)\n",
    "        dydt = np.array([\n",
    "            -self.aerodynamic_coef / self.mass * v[0] * v_mod,\n",
    "            -self.aerodynamic_coef / self.mass * v[1] * v_mod - self.g,\n",
    "            -self.aerodynamic_coef / self.mass * v[2] * v_mod,\n",
    "        ])\n",
    "        return dydt.ravel()\n",
    "    \n",
    "    def solve_velocities(self, time: np.ndarray):\n",
    "        return odeint(self.wind_model, self.v0, time)\n",
    "    \n",
    "    @property\n",
    "    def current_wind(self) -> np.array:\n",
    "        return self.winds.predict(self.pos[1])\n",
    "    \n",
    "    @property\n",
    "    def aerodynamic_acc(self) -> np.array:\n",
    "        return -self.v*np.linalg.norm(self.v)*self.aerodynamic_coef / self.mass\n",
    "    \n",
    "    def step(self, dt: float):\n",
    "        self._log.debug(f\"Current position: {self.pos[1]:.2f}m above ground.\")\n",
    "        self._log.debug(f\"Aerodynamic acc: {self.aerodynamic_acc}\")\n",
    "        self._log.debug(f\"Winds: {self.current_wind}\")\n",
    "        self.v = np.asarray(self.v) + self.aerodynamic_acc*dt + dt*np.array([0, -self.g, 0])\n",
    "        self._log.debug(f\"Object's speed is: {self.v}\")\n",
    "        v_eff = self.current_wind + self.v\n",
    "        self._log.debug(f\"Effective speed is: {v_eff}\")\n",
    "        self.pos = self.pos + np.asarray(v_eff) * dt\n",
    "        self._log.debug(f\"Position is: {self.pos}\")\n",
    "        self.run_time += dt\n",
    "    \n",
    "    def predict(self, point: np.ndarray, reset: bool=True, **run_kwargs) -> np.array:\n",
    "        if reset:\n",
    "            self.reset()\n",
    "        self.run(**run_kwargs)\n",
    "        starting_point = point - self.state.pos + 2*np.array(self.pos0)\n",
    "        starting_point[1] = self.pos0[1]\n",
    "        return starting_point\n",
    "    \n",
    "    def score(self, starting_point: np.array, destination_point: np.array, reset: bool=True, **run_kwargs) -> Tuple[np.ndarray, float]:\n",
    "        saved_pos0 = self.pos0\n",
    "        try:\n",
    "            self.pos0 = starting_point\n",
    "            if reset:\n",
    "                self.reset()\n",
    "            self.run(**run_kwargs)\n",
    "            landing_point = self.state.pos\n",
    "            landing_point[1] = destination_point[1]\n",
    "            return landing_point, np.linalg.norm(landing_point - destination_point)\n",
    "        except Exception as e:\n",
    "            self.pos0 = saved_pos0\n",
    "            raise e\n",
    "        finally:\n",
    "            self.pos0 = saved_pos0\n",
    "        \n",
    "    @property\n",
    "    def state(self) -> 'ModelState':\n",
    "        return self.ModelState(v=self.v, pos=self.pos, time=self.run_time)\n",
    "        \n",
    "    def run(self, max_steps: int=None, dt: float=0.01) -> Sequence['ModelState']:\n",
    "        step = 0\n",
    "        states = []\n",
    "        while self.pos[1] > 0 and (max_steps is None or step < max_steps):\n",
    "            self.step(dt)\n",
    "            step += 1\n",
    "            states.append(self.state)\n",
    "            self._log.debug(f\"State is: {self.state}\")\n",
    "        self._log.info(f\"Final state is: {self.state}\")\n",
    "        if max_steps is not None and step >= max_steps:\n",
    "            self._log.warning(f\"WARN: stopped after maximum iterations: {step}\")\n",
    "        return states"
   ]
  },
  {
   "cell_type": "code",
   "execution_count": 91,
   "metadata": {},
   "outputs": [
    {
     "name": "stderr",
     "output_type": "stream",
     "text": [
      "[02:19:54] [INFO]: Trying to detect which type of wind model is needed (calculate deltas in a dataset)...\n",
      "[02:19:54] [INFO]: [-100 -100 -100 -100 -100 -100 -100 -100 -100 -100 -100 -100 -100 -100]\n",
      "[02:19:54] [INFO]: Wind dataset will be predicted using dynamic step variation: False\n"
     ]
    }
   ],
   "source": [
    "winds = WindPredictor(Wind_table)\n",
    "model = WindyModel(winds=winds, pos0=[0, 1000, 0], verbose=logging.INFO, v0=250, alpha=0, mass=100, aerodynamic_coef=lr.coef_)"
   ]
  },
  {
   "cell_type": "code",
   "execution_count": 92,
   "metadata": {},
   "outputs": [
    {
     "name": "stderr",
     "output_type": "stream",
     "text": [
      "[02:19:57] [INFO]: Final state is: WindyModel.ModelState(v=array([  3.39498068, -59.51737493,   0.        ]), pos=array([ 9.63431647e+02, -3.36993883e-01, -4.68488000e+01]), time=22.76000000000076)\n"
     ]
    },
    {
     "name": "stdout",
     "output_type": "stream",
     "text": [
      "Finished in 2276. Took: 22.76000000000076 seconds.\n",
      "Wall time: 2.84 s\n"
     ]
    }
   ],
   "source": [
    "%%time\n",
    "states = model.run()\n",
    "print(f\"Finished in {len(states)}. Took: {model.state.time} seconds.\")"
   ]
  },
  {
   "cell_type": "code",
   "execution_count": 96,
   "metadata": {},
   "outputs": [
    {
     "name": "stderr",
     "output_type": "stream",
     "text": [
      "[02:21:48] [INFO]: Final state is: WindyModel.ModelState(v=array([  3.39963246, -59.51624523,   0.        ]), pos=array([ 9.65089832e+02, -2.27322822e-01, -4.68607500e+01]), time=22.764999999999755)\n"
     ]
    },
    {
     "name": "stdout",
     "output_type": "stream",
     "text": [
      "[-965.08983166 1000.           46.86075   ]\n",
      "Wall time: 5.38 s\n"
     ]
    }
   ],
   "source": [
    "%%time\n",
    "starting_point = model.predict((0,0,0), dt=0.005)\n",
    "print(starting_point)"
   ]
  },
  {
   "cell_type": "code",
   "execution_count": 97,
   "metadata": {},
   "outputs": [
    {
     "name": "stderr",
     "output_type": "stream",
     "text": [
      "[02:22:16] [INFO]: Final state is: WindyModel.ModelState(v=array([  3.40445985, -59.51511257,   0.        ]), pos=array([ 1.31125011, -0.02081325, -0.00331   ]), time=22.767000000004842)\n"
     ]
    },
    {
     "name": "stdout",
     "output_type": "stream",
     "text": [
      "Wall time: 28.4 s\n"
     ]
    },
    {
     "data": {
      "text/plain": [
       "(array([ 1.31125011,  0.        , -0.00331   ]), 1.3112542828293914)"
      ]
     },
     "execution_count": 97,
     "metadata": {},
     "output_type": "execute_result"
    }
   ],
   "source": [
    "%%time\n",
    "model.score(starting_point, (0,0,0), dt=0.001)"
   ]
  },
  {
   "cell_type": "code",
   "execution_count": 95,
   "metadata": {},
   "outputs": [
    {
     "name": "stderr",
     "output_type": "stream",
     "text": [
      "[02:20:28] [DEBUG]: update_title_pos\n",
      "[02:20:28] [DEBUG]: update_title_pos\n",
      "[02:20:28] [DEBUG]: update_title_pos\n",
      "[02:20:28] [DEBUG]: update_title_pos\n"
     ]
    },
    {
     "data": {
      "image/png": "[encoded data removed]",
      "text/plain": [
       "<Figure size 432x288 with 1 Axes>"
      ]
     },
     "metadata": {
      "needs_background": "light"
     },
     "output_type": "display_data"
    },
    {
     "data": {
      "text/html": [
       "<div>\n",
       "<style scoped>\n",
       "    .dataframe tbody tr th:only-of-type {\n",
       "        vertical-align: middle;\n",
       "    }\n",
       "\n",
       "    .dataframe tbody tr th {\n",
       "        vertical-align: top;\n",
       "    }\n",
       "\n",
       "    .dataframe thead th {\n",
       "        text-align: right;\n",
       "    }\n",
       "</style>\n",
       "<table border=\"1\" class=\"dataframe\">\n",
       "  <thead>\n",
       "    <tr style=\"text-align: right;\">\n",
       "      <th></th>\n",
       "      <th>0</th>\n",
       "      <th>1</th>\n",
       "      <th>2</th>\n",
       "    </tr>\n",
       "  </thead>\n",
       "  <tbody>\n",
       "    <tr>\n",
       "      <th>45</th>\n",
       "      <td>6.951585</td>\n",
       "      <td>-58.533963</td>\n",
       "      <td>0.0</td>\n",
       "    </tr>\n",
       "    <tr>\n",
       "      <th>46</th>\n",
       "      <td>6.508869</td>\n",
       "      <td>-58.681340</td>\n",
       "      <td>0.0</td>\n",
       "    </tr>\n",
       "    <tr>\n",
       "      <th>47</th>\n",
       "      <td>6.093726</td>\n",
       "      <td>-58.813532</td>\n",
       "      <td>0.0</td>\n",
       "    </tr>\n",
       "    <tr>\n",
       "      <th>48</th>\n",
       "      <td>5.704533</td>\n",
       "      <td>-58.932017</td>\n",
       "      <td>0.0</td>\n",
       "    </tr>\n",
       "    <tr>\n",
       "      <th>49</th>\n",
       "      <td>5.339747</td>\n",
       "      <td>-59.038141</td>\n",
       "      <td>0.0</td>\n",
       "    </tr>\n",
       "  </tbody>\n",
       "</table>\n",
       "</div>"
      ],
      "text/plain": [
       "           0          1    2\n",
       "45  6.951585 -58.533963  0.0\n",
       "46  6.508869 -58.681340  0.0\n",
       "47  6.093726 -58.813532  0.0\n",
       "48  5.704533 -58.932017  0.0\n",
       "49  5.339747 -59.038141  0.0"
      ]
     },
     "metadata": {},
     "output_type": "display_data"
    }
   ],
   "source": [
    "import numpy as np\n",
    "from scipy.integrate import odeint\n",
    "import matplotlib.pyplot as plt\n",
    "\n",
    "\n",
    "# time points\n",
    "t = np.linspace(0,20)\n",
    "y = model.solve_velocities(t)\n",
    "\n",
    "# plot results\n",
    "plt.plot(t,y)\n",
    "plt.xlabel('time')\n",
    "plt.ylabel('y(t)')\n",
    "plt.show()\n",
    "display(pd.DataFrame(y).tail())"
   ]
  },
  {
   "cell_type": "code",
   "execution_count": null,
   "metadata": {},
   "outputs": [],
   "source": []
  }
 ],
 "metadata": {
  "kernelspec": {
   "display_name": "Python 3",
   "language": "python",
   "name": "python3"
  },
  "language_info": {
   "codemirror_mode": {
    "name": "ipython",
    "version": 3
   },
   "file_extension": ".py",
   "mimetype": "text/x-python",
   "name": "python",
   "nbconvert_exporter": "python",
   "pygments_lexer": "ipython3",
   "version": "3.7.0"
  }
 },
 "nbformat": 4,
 "nbformat_minor": 1
}
